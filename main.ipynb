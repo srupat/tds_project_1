{
 "cells": [
  {
   "cell_type": "markdown",
   "metadata": {},
   "source": [
    "### Github Access Token"
   ]
  },
  {
   "cell_type": "code",
   "execution_count": 2,
   "metadata": {},
   "outputs": [],
   "source": [
    "import os\n",
    "from dotenv import load_dotenv\n",
    "import requests\n",
    "import csv\n",
    "from datetime import datetime\n",
    "import time\n",
    "\n",
    "load_dotenv()\n",
    "\n",
    "GITHUB_ACCESS_TOKEN = os.getenv(\"GITHUB_ACCESS_TOKEN\")\n",
    "HEADERS = {\"Authorization\": f\"token {GITHUB_ACCESS_TOKEN}\"}"
   ]
  },
  {
   "cell_type": "markdown",
   "metadata": {},
   "source": [
    "### Fetch Users"
   ]
  },
  {
   "cell_type": "code",
   "execution_count": 3,
   "metadata": {},
   "outputs": [],
   "source": [
    "def fetch_all_users(location=\"Toronto\", min_followers=100):\n",
    "    url = \"https://api.github.com/search/users\"\n",
    "    params = {\n",
    "        \"q\": f\"location:{location} followers:>{min_followers}\",\n",
    "        \"per_page\": 100,\n",
    "        \"page\": 1\n",
    "    }\n",
    "    users = []\n",
    "\n",
    "    while True:\n",
    "        response = requests.get(url, headers=HEADERS, params=params)\n",
    "        \n",
    "        if response.status_code != 200:\n",
    "            print(f\"Error {response.status_code}: {response.text}\")\n",
    "            break\n",
    "\n",
    "        data = response.json()\n",
    "        users.extend(data.get(\"items\", []))\n",
    "\n",
    "        if len(data.get(\"items\", [])) == 0 or len(users) >= 1000:\n",
    "            break\n",
    "\n",
    "        params[\"page\"] += 1\n",
    "\n",
    "        time.sleep(1)  \n",
    "\n",
    "    return users"
   ]
  },
  {
   "cell_type": "code",
   "execution_count": 4,
   "metadata": {},
   "outputs": [],
   "source": [
    "def fetch_user_details(username):\n",
    "    url = f\"https://api.github.com/users/{username}\"\n",
    "    return requests.get(url, headers=HEADERS).json()\n"
   ]
  },
  {
   "cell_type": "markdown",
   "metadata": {},
   "source": [
    "### Fetch Repos"
   ]
  },
  {
   "cell_type": "code",
   "execution_count": 5,
   "metadata": {},
   "outputs": [],
   "source": [
    "def fetch_repositories(username, max_repos=500):\n",
    "    url = f\"https://api.github.com/users/{username}/repos\"\n",
    "    params = {\"per_page\": 100, \"page\": 1}\n",
    "    repos = []\n",
    "    while len(repos) < max_repos:\n",
    "        response = requests.get(url, headers=HEADERS, params=params).json()\n",
    "        if not response:\n",
    "            break\n",
    "        repos.extend(response)\n",
    "        params[\"page\"] += 1\n",
    "    return repos[:max_repos]"
   ]
  },
  {
   "cell_type": "markdown",
   "metadata": {},
   "source": [
    "### Cleaning"
   ]
  },
  {
   "cell_type": "code",
   "execution_count": 6,
   "metadata": {},
   "outputs": [],
   "source": [
    "def clean_company_name(name):\n",
    "    if not name:\n",
    "        return \"\"\n",
    "    name = name.strip()\n",
    "    if name.startswith(\"@\"):\n",
    "        name = name[1:]\n",
    "    return name.upper()\n"
   ]
  },
  {
   "cell_type": "markdown",
   "metadata": {},
   "source": [
    "### Generating the CSV files"
   ]
  },
  {
   "cell_type": "code",
   "execution_count": 7,
   "metadata": {},
   "outputs": [],
   "source": [
    "def write_users_csv(users):\n",
    "    with open(\"users.csv\", \"w\", newline=\"\", encoding=\"utf-8\") as file:\n",
    "        writer = csv.writer(file)\n",
    "        writer.writerow([\n",
    "            \"login\", \"name\", \"company\", \"location\", \"email\", \"hireable\", \"bio\",\n",
    "            \"public_repos\", \"followers\", \"following\", \"created_at\"\n",
    "        ])\n",
    "        for user in users:\n",
    "            user_details = fetch_user_details(user['login'])\n",
    "            writer.writerow([\n",
    "                user_details.get(\"login\", \"\"),\n",
    "                user_details.get(\"name\", \"\"),\n",
    "                clean_company_name(user_details.get(\"company\", \"\")),\n",
    "                user_details.get(\"location\", \"\"),\n",
    "                user_details.get(\"email\", \"\"),\n",
    "                user_details.get(\"hireable\", \"\"),\n",
    "                user_details.get(\"bio\", \"\"),\n",
    "                user_details.get(\"public_repos\", 0),\n",
    "                user_details.get(\"followers\", 0),\n",
    "                user_details.get(\"following\", 0),\n",
    "                user_details.get(\"created_at\", \"\")\n",
    "            ])"
   ]
  },
  {
   "cell_type": "code",
   "execution_count": 8,
   "metadata": {},
   "outputs": [],
   "source": [
    "def write_repositories_csv(users):\n",
    "    with open(\"repositories.csv\", \"w\", newline=\"\", encoding=\"utf-8\") as file:\n",
    "        writer = csv.writer(file)\n",
    "        writer.writerow([\n",
    "            \"login\", \"full_name\", \"created_at\", \"stargazers_count\",\n",
    "            \"watchers_count\", \"language\", \"has_projects\", \"has_wiki\", \"license_name\"\n",
    "        ])\n",
    "        for user in users:\n",
    "            repos = fetch_repositories(user['login'])\n",
    "            for repo in repos:\n",
    "                writer.writerow([\n",
    "                    user['login'],\n",
    "                    repo.get(\"full_name\", \"\"),\n",
    "                    repo.get(\"created_at\", \"\"),\n",
    "                    repo.get(\"stargazers_count\", 0),\n",
    "                    repo.get(\"watchers_count\", 0),\n",
    "                    repo.get(\"language\", \"\"),\n",
    "                    repo.get(\"has_projects\", False),\n",
    "                    repo.get(\"has_wiki\", False),\n",
    "                    repo.get(\"license\", {}).get(\"name\", \"\") if repo.get(\"license\") else \"\"\n",
    "                ])"
   ]
  },
  {
   "cell_type": "code",
   "execution_count": 9,
   "metadata": {},
   "outputs": [],
   "source": [
    "users = fetch_all_users()\n",
    "write_users_csv(users)\n",
    "write_repositories_csv(users)"
   ]
  },
  {
   "cell_type": "markdown",
   "metadata": {},
   "source": [
    "Question 1"
   ]
  },
  {
   "cell_type": "code",
   "execution_count": 1,
   "metadata": {},
   "outputs": [],
   "source": [
    "import duckdb\n",
    "\n",
    "con = duckdb.connect()"
   ]
  },
  {
   "cell_type": "code",
   "execution_count": 11,
   "metadata": {},
   "outputs": [
    {
     "data": {
      "text/html": [
       "<div>\n",
       "<style scoped>\n",
       "    .dataframe tbody tr th:only-of-type {\n",
       "        vertical-align: middle;\n",
       "    }\n",
       "\n",
       "    .dataframe tbody tr th {\n",
       "        vertical-align: top;\n",
       "    }\n",
       "\n",
       "    .dataframe thead th {\n",
       "        text-align: right;\n",
       "    }\n",
       "</style>\n",
       "<table border=\"1\" class=\"dataframe\">\n",
       "  <thead>\n",
       "    <tr style=\"text-align: right;\">\n",
       "      <th></th>\n",
       "      <th>login</th>\n",
       "      <th>name</th>\n",
       "      <th>company</th>\n",
       "      <th>location</th>\n",
       "      <th>email</th>\n",
       "      <th>hireable</th>\n",
       "      <th>bio</th>\n",
       "      <th>public_repos</th>\n",
       "      <th>followers</th>\n",
       "      <th>following</th>\n",
       "      <th>created_at</th>\n",
       "    </tr>\n",
       "  </thead>\n",
       "  <tbody>\n",
       "    <tr>\n",
       "      <th>0</th>\n",
       "      <td>aneagoie</td>\n",
       "      <td>Andrei Neagoie</td>\n",
       "      <td>None</td>\n",
       "      <td>Toronto, Canada</td>\n",
       "      <td>None</td>\n",
       "      <td>True</td>\n",
       "      <td>Senior Software Dev turned Instructor. Founder...</td>\n",
       "      <td>145</td>\n",
       "      <td>10279</td>\n",
       "      <td>1</td>\n",
       "      <td>2015-01-30 17:05:43</td>\n",
       "    </tr>\n",
       "    <tr>\n",
       "      <th>1</th>\n",
       "      <td>ZhangMYihua</td>\n",
       "      <td>Yihua Zhang</td>\n",
       "      <td>None</td>\n",
       "      <td>Toronto</td>\n",
       "      <td>yihuazhang2@gmail.com</td>\n",
       "      <td>NaN</td>\n",
       "      <td>Toronto Software Developer</td>\n",
       "      <td>143</td>\n",
       "      <td>5801</td>\n",
       "      <td>11</td>\n",
       "      <td>2015-01-18 00:01:02</td>\n",
       "    </tr>\n",
       "    <tr>\n",
       "      <th>2</th>\n",
       "      <td>susanli2016</td>\n",
       "      <td>Susan Li</td>\n",
       "      <td>None</td>\n",
       "      <td>Toronto Canada</td>\n",
       "      <td>None</td>\n",
       "      <td>NaN</td>\n",
       "      <td>Chief Data Scientist</td>\n",
       "      <td>34</td>\n",
       "      <td>4921</td>\n",
       "      <td>68</td>\n",
       "      <td>2016-11-28 04:22:39</td>\n",
       "    </tr>\n",
       "    <tr>\n",
       "      <th>3</th>\n",
       "      <td>thedaviddias</td>\n",
       "      <td>David Dias</td>\n",
       "      <td>KIJIJICA</td>\n",
       "      <td>Toronto, Canada</td>\n",
       "      <td>None</td>\n",
       "      <td>NaN</td>\n",
       "      <td>💻 Passionate Front-End Dev &amp; 🎨 UI/UX fan. Cont...</td>\n",
       "      <td>88</td>\n",
       "      <td>4546</td>\n",
       "      <td>303</td>\n",
       "      <td>2010-04-05 14:40:12</td>\n",
       "    </tr>\n",
       "    <tr>\n",
       "      <th>4</th>\n",
       "      <td>ange-yaghi</td>\n",
       "      <td>Ange Yaghi</td>\n",
       "      <td>None</td>\n",
       "      <td>Toronto</td>\n",
       "      <td>me@angeyaghi.com</td>\n",
       "      <td>NaN</td>\n",
       "      <td>C++ Developer</td>\n",
       "      <td>32</td>\n",
       "      <td>4023</td>\n",
       "      <td>11</td>\n",
       "      <td>2016-07-13 21:01:21</td>\n",
       "    </tr>\n",
       "    <tr>\n",
       "      <th>...</th>\n",
       "      <td>...</td>\n",
       "      <td>...</td>\n",
       "      <td>...</td>\n",
       "      <td>...</td>\n",
       "      <td>...</td>\n",
       "      <td>...</td>\n",
       "      <td>...</td>\n",
       "      <td>...</td>\n",
       "      <td>...</td>\n",
       "      <td>...</td>\n",
       "      <td>...</td>\n",
       "    </tr>\n",
       "    <tr>\n",
       "      <th>680</th>\n",
       "      <td>acode</td>\n",
       "      <td>Autocode Open Source</td>\n",
       "      <td>None</td>\n",
       "      <td>San Francisco, CA and Toronto, ON</td>\n",
       "      <td>None</td>\n",
       "      <td>NaN</td>\n",
       "      <td>Open Source Contributions for Autocode (defunct)</td>\n",
       "      <td>9</td>\n",
       "      <td>101</td>\n",
       "      <td>0</td>\n",
       "      <td>2021-03-11 07:34:55</td>\n",
       "    </tr>\n",
       "    <tr>\n",
       "      <th>681</th>\n",
       "      <td>gorkem-cetin</td>\n",
       "      <td>Görkem Çetin</td>\n",
       "      <td>COUNTLY</td>\n",
       "      <td>Toronto, Canada</td>\n",
       "      <td>None</td>\n",
       "      <td>NaN</td>\n",
       "      <td>Director at Countly, #1 open source mobile ana...</td>\n",
       "      <td>44</td>\n",
       "      <td>101</td>\n",
       "      <td>8</td>\n",
       "      <td>2012-05-20 16:20:29</td>\n",
       "    </tr>\n",
       "    <tr>\n",
       "      <th>682</th>\n",
       "      <td>rwhogg</td>\n",
       "      <td>Bob \"Wombat\" Hogg</td>\n",
       "      <td>GOOGLE</td>\n",
       "      <td>Toronto, Canada</td>\n",
       "      <td>rwhogg@google.com</td>\n",
       "      <td>NaN</td>\n",
       "      <td>Dev-of-all-trades, University of Waterloo grad...</td>\n",
       "      <td>43</td>\n",
       "      <td>101</td>\n",
       "      <td>473</td>\n",
       "      <td>2012-09-18 21:29:26</td>\n",
       "    </tr>\n",
       "    <tr>\n",
       "      <th>683</th>\n",
       "      <td>andrewdamelio</td>\n",
       "      <td>Andrew D'Amelio</td>\n",
       "      <td>None</td>\n",
       "      <td>Toronto, Canada</td>\n",
       "      <td>None</td>\n",
       "      <td>NaN</td>\n",
       "      <td>npx andrewdamelio</td>\n",
       "      <td>31</td>\n",
       "      <td>101</td>\n",
       "      <td>66</td>\n",
       "      <td>2012-04-27 01:39:33</td>\n",
       "    </tr>\n",
       "    <tr>\n",
       "      <th>684</th>\n",
       "      <td>qasim</td>\n",
       "      <td>Qasim Iqbal</td>\n",
       "      <td>None</td>\n",
       "      <td>Toronto, Canada</td>\n",
       "      <td>me@qas.im</td>\n",
       "      <td>NaN</td>\n",
       "      <td>Software, experiments, and having fun.</td>\n",
       "      <td>62</td>\n",
       "      <td>101</td>\n",
       "      <td>35</td>\n",
       "      <td>2013-01-12 18:40:53</td>\n",
       "    </tr>\n",
       "  </tbody>\n",
       "</table>\n",
       "<p>685 rows × 11 columns</p>\n",
       "</div>"
      ],
      "text/plain": [
       "             login                  name   company  \\\n",
       "0         aneagoie        Andrei Neagoie      None   \n",
       "1      ZhangMYihua           Yihua Zhang      None   \n",
       "2      susanli2016              Susan Li      None   \n",
       "3     thedaviddias            David Dias  KIJIJICA   \n",
       "4       ange-yaghi            Ange Yaghi      None   \n",
       "..             ...                   ...       ...   \n",
       "680          acode  Autocode Open Source      None   \n",
       "681   gorkem-cetin          Görkem Çetin   COUNTLY   \n",
       "682         rwhogg     Bob \"Wombat\" Hogg    GOOGLE   \n",
       "683  andrewdamelio       Andrew D'Amelio      None   \n",
       "684          qasim           Qasim Iqbal      None   \n",
       "\n",
       "                              location                  email hireable  \\\n",
       "0                      Toronto, Canada                   None     True   \n",
       "1                              Toronto  yihuazhang2@gmail.com      NaN   \n",
       "2                       Toronto Canada                   None      NaN   \n",
       "3                      Toronto, Canada                   None      NaN   \n",
       "4                              Toronto       me@angeyaghi.com      NaN   \n",
       "..                                 ...                    ...      ...   \n",
       "680  San Francisco, CA and Toronto, ON                   None      NaN   \n",
       "681                    Toronto, Canada                   None      NaN   \n",
       "682                    Toronto, Canada      rwhogg@google.com      NaN   \n",
       "683                    Toronto, Canada                   None      NaN   \n",
       "684                    Toronto, Canada              me@qas.im      NaN   \n",
       "\n",
       "                                                   bio  public_repos  \\\n",
       "0    Senior Software Dev turned Instructor. Founder...           145   \n",
       "1                           Toronto Software Developer           143   \n",
       "2                                 Chief Data Scientist            34   \n",
       "3    💻 Passionate Front-End Dev & 🎨 UI/UX fan. Cont...            88   \n",
       "4                                        C++ Developer            32   \n",
       "..                                                 ...           ...   \n",
       "680   Open Source Contributions for Autocode (defunct)             9   \n",
       "681  Director at Countly, #1 open source mobile ana...            44   \n",
       "682  Dev-of-all-trades, University of Waterloo grad...            43   \n",
       "683                                  npx andrewdamelio            31   \n",
       "684             Software, experiments, and having fun.            62   \n",
       "\n",
       "     followers  following          created_at  \n",
       "0        10279          1 2015-01-30 17:05:43  \n",
       "1         5801         11 2015-01-18 00:01:02  \n",
       "2         4921         68 2016-11-28 04:22:39  \n",
       "3         4546        303 2010-04-05 14:40:12  \n",
       "4         4023         11 2016-07-13 21:01:21  \n",
       "..         ...        ...                 ...  \n",
       "680        101          0 2021-03-11 07:34:55  \n",
       "681        101          8 2012-05-20 16:20:29  \n",
       "682        101        473 2012-09-18 21:29:26  \n",
       "683        101         66 2012-04-27 01:39:33  \n",
       "684        101         35 2013-01-12 18:40:53  \n",
       "\n",
       "[685 rows x 11 columns]"
      ]
     },
     "execution_count": 11,
     "metadata": {},
     "output_type": "execute_result"
    }
   ],
   "source": [
    "query = \"SELECT * FROM read_csv_auto('users.csv')\"\n",
    "con.execute(query).fetchdf()"
   ]
  },
  {
   "cell_type": "code",
   "execution_count": 12,
   "metadata": {},
   "outputs": [
    {
     "data": {
      "text/html": [
       "<div>\n",
       "<style scoped>\n",
       "    .dataframe tbody tr th:only-of-type {\n",
       "        vertical-align: middle;\n",
       "    }\n",
       "\n",
       "    .dataframe tbody tr th {\n",
       "        vertical-align: top;\n",
       "    }\n",
       "\n",
       "    .dataframe thead th {\n",
       "        text-align: right;\n",
       "    }\n",
       "</style>\n",
       "<table border=\"1\" class=\"dataframe\">\n",
       "  <thead>\n",
       "    <tr style=\"text-align: right;\">\n",
       "      <th></th>\n",
       "      <th>login</th>\n",
       "    </tr>\n",
       "  </thead>\n",
       "  <tbody>\n",
       "    <tr>\n",
       "      <th>0</th>\n",
       "      <td>aneagoie</td>\n",
       "    </tr>\n",
       "    <tr>\n",
       "      <th>1</th>\n",
       "      <td>ZhangMYihua</td>\n",
       "    </tr>\n",
       "    <tr>\n",
       "      <th>2</th>\n",
       "      <td>susanli2016</td>\n",
       "    </tr>\n",
       "    <tr>\n",
       "      <th>3</th>\n",
       "      <td>thedaviddias</td>\n",
       "    </tr>\n",
       "    <tr>\n",
       "      <th>4</th>\n",
       "      <td>ange-yaghi</td>\n",
       "    </tr>\n",
       "  </tbody>\n",
       "</table>\n",
       "</div>"
      ],
      "text/plain": [
       "          login\n",
       "0      aneagoie\n",
       "1   ZhangMYihua\n",
       "2   susanli2016\n",
       "3  thedaviddias\n",
       "4    ange-yaghi"
      ]
     },
     "execution_count": 12,
     "metadata": {},
     "output_type": "execute_result"
    }
   ],
   "source": [
    "query = \"SELECT login from read_csv_auto('users.csv') ORDER BY followers DESC LIMIT 5\"\n",
    "con.execute(query).fetchdf()"
   ]
  },
  {
   "cell_type": "code",
   "execution_count": 13,
   "metadata": {},
   "outputs": [
    {
     "data": {
      "text/html": [
       "<div>\n",
       "<style scoped>\n",
       "    .dataframe tbody tr th:only-of-type {\n",
       "        vertical-align: middle;\n",
       "    }\n",
       "\n",
       "    .dataframe tbody tr th {\n",
       "        vertical-align: top;\n",
       "    }\n",
       "\n",
       "    .dataframe thead th {\n",
       "        text-align: right;\n",
       "    }\n",
       "</style>\n",
       "<table border=\"1\" class=\"dataframe\">\n",
       "  <thead>\n",
       "    <tr style=\"text-align: right;\">\n",
       "      <th></th>\n",
       "      <th>login</th>\n",
       "    </tr>\n",
       "  </thead>\n",
       "  <tbody>\n",
       "    <tr>\n",
       "      <th>0</th>\n",
       "      <td>jamesmacaulay</td>\n",
       "    </tr>\n",
       "    <tr>\n",
       "      <th>1</th>\n",
       "      <td>michaelklishin</td>\n",
       "    </tr>\n",
       "    <tr>\n",
       "      <th>2</th>\n",
       "      <td>myles</td>\n",
       "    </tr>\n",
       "    <tr>\n",
       "      <th>3</th>\n",
       "      <td>nwjsmith</td>\n",
       "    </tr>\n",
       "    <tr>\n",
       "      <th>4</th>\n",
       "      <td>vito</td>\n",
       "    </tr>\n",
       "  </tbody>\n",
       "</table>\n",
       "</div>"
      ],
      "text/plain": [
       "            login\n",
       "0   jamesmacaulay\n",
       "1  michaelklishin\n",
       "2           myles\n",
       "3        nwjsmith\n",
       "4            vito"
      ]
     },
     "execution_count": 13,
     "metadata": {},
     "output_type": "execute_result"
    }
   ],
   "source": [
    "query = \"SELECT login from read_csv_auto('users.csv') ORDER BY created_at ASC LIMIT 5\"\n",
    "con.execute(query).fetchdf()"
   ]
  },
  {
   "cell_type": "code",
   "execution_count": 14,
   "metadata": {},
   "outputs": [
    {
     "data": {
      "text/html": [
       "<div>\n",
       "<style scoped>\n",
       "    .dataframe tbody tr th:only-of-type {\n",
       "        vertical-align: middle;\n",
       "    }\n",
       "\n",
       "    .dataframe tbody tr th {\n",
       "        vertical-align: top;\n",
       "    }\n",
       "\n",
       "    .dataframe thead th {\n",
       "        text-align: right;\n",
       "    }\n",
       "</style>\n",
       "<table border=\"1\" class=\"dataframe\">\n",
       "  <thead>\n",
       "    <tr style=\"text-align: right;\">\n",
       "      <th></th>\n",
       "      <th>license_name</th>\n",
       "    </tr>\n",
       "  </thead>\n",
       "  <tbody>\n",
       "    <tr>\n",
       "      <th>0</th>\n",
       "      <td>MIT License</td>\n",
       "    </tr>\n",
       "    <tr>\n",
       "      <th>1</th>\n",
       "      <td>Other</td>\n",
       "    </tr>\n",
       "    <tr>\n",
       "      <th>2</th>\n",
       "      <td>Apache License 2.0</td>\n",
       "    </tr>\n",
       "  </tbody>\n",
       "</table>\n",
       "</div>"
      ],
      "text/plain": [
       "         license_name\n",
       "0         MIT License\n",
       "1               Other\n",
       "2  Apache License 2.0"
      ]
     },
     "execution_count": 14,
     "metadata": {},
     "output_type": "execute_result"
    }
   ],
   "source": [
    "query = \"SELECT license_name from read_csv_auto('repositories.csv') WHERE license_name != '' GROUP BY license_name ORDER BY COUNT(*) DESC LIMIT 3\"\n",
    "con.execute(query).fetchdf()"
   ]
  },
  {
   "cell_type": "code",
   "execution_count": 15,
   "metadata": {},
   "outputs": [
    {
     "data": {
      "text/html": [
       "<div>\n",
       "<style scoped>\n",
       "    .dataframe tbody tr th:only-of-type {\n",
       "        vertical-align: middle;\n",
       "    }\n",
       "\n",
       "    .dataframe tbody tr th {\n",
       "        vertical-align: top;\n",
       "    }\n",
       "\n",
       "    .dataframe thead th {\n",
       "        text-align: right;\n",
       "    }\n",
       "</style>\n",
       "<table border=\"1\" class=\"dataframe\">\n",
       "  <thead>\n",
       "    <tr style=\"text-align: right;\">\n",
       "      <th></th>\n",
       "      <th>company</th>\n",
       "      <th>count</th>\n",
       "    </tr>\n",
       "  </thead>\n",
       "  <tbody>\n",
       "    <tr>\n",
       "      <th>0</th>\n",
       "      <td>UNIVERSITY OF TORONTO</td>\n",
       "      <td>21</td>\n",
       "    </tr>\n",
       "    <tr>\n",
       "      <th>1</th>\n",
       "      <td>SHOPIFY</td>\n",
       "      <td>16</td>\n",
       "    </tr>\n",
       "    <tr>\n",
       "      <th>2</th>\n",
       "      <td>NVIDIA</td>\n",
       "      <td>7</td>\n",
       "    </tr>\n",
       "    <tr>\n",
       "      <th>3</th>\n",
       "      <td>GOOGLE</td>\n",
       "      <td>7</td>\n",
       "    </tr>\n",
       "    <tr>\n",
       "      <th>4</th>\n",
       "      <td>YORK UNIVERSITY</td>\n",
       "      <td>5</td>\n",
       "    </tr>\n",
       "    <tr>\n",
       "      <th>...</th>\n",
       "      <td>...</td>\n",
       "      <td>...</td>\n",
       "    </tr>\n",
       "    <tr>\n",
       "      <th>304</th>\n",
       "      <td>DISCOVERYVIP</td>\n",
       "      <td>1</td>\n",
       "    </tr>\n",
       "    <tr>\n",
       "      <th>305</th>\n",
       "      <td>PROXET (FORMER RAILS REACTOR)</td>\n",
       "      <td>1</td>\n",
       "    </tr>\n",
       "    <tr>\n",
       "      <th>306</th>\n",
       "      <td>VOLTRON DATA</td>\n",
       "      <td>1</td>\n",
       "    </tr>\n",
       "    <tr>\n",
       "      <th>307</th>\n",
       "      <td>CANOPY SECURITY</td>\n",
       "      <td>1</td>\n",
       "    </tr>\n",
       "    <tr>\n",
       "      <th>308</th>\n",
       "      <td>CCXT</td>\n",
       "      <td>1</td>\n",
       "    </tr>\n",
       "  </tbody>\n",
       "</table>\n",
       "<p>309 rows × 2 columns</p>\n",
       "</div>"
      ],
      "text/plain": [
       "                           company  count\n",
       "0            UNIVERSITY OF TORONTO     21\n",
       "1                          SHOPIFY     16\n",
       "2                           NVIDIA      7\n",
       "3                           GOOGLE      7\n",
       "4                  YORK UNIVERSITY      5\n",
       "..                             ...    ...\n",
       "304                   DISCOVERYVIP      1\n",
       "305  PROXET (FORMER RAILS REACTOR)      1\n",
       "306                   VOLTRON DATA      1\n",
       "307                CANOPY SECURITY      1\n",
       "308                           CCXT      1\n",
       "\n",
       "[309 rows x 2 columns]"
      ]
     },
     "execution_count": 15,
     "metadata": {},
     "output_type": "execute_result"
    }
   ],
   "source": [
    "query = \"SELECT company, COUNT(*) as count from read_csv_auto('users.csv') WHERE company != '' GROUP BY company ORDER BY COUNT(*) DESC\"\n",
    "con.execute(query).fetchdf()"
   ]
  },
  {
   "cell_type": "code",
   "execution_count": 16,
   "metadata": {},
   "outputs": [
    {
     "data": {
      "text/html": [
       "<div>\n",
       "<style scoped>\n",
       "    .dataframe tbody tr th:only-of-type {\n",
       "        vertical-align: middle;\n",
       "    }\n",
       "\n",
       "    .dataframe tbody tr th {\n",
       "        vertical-align: top;\n",
       "    }\n",
       "\n",
       "    .dataframe thead th {\n",
       "        text-align: right;\n",
       "    }\n",
       "</style>\n",
       "<table border=\"1\" class=\"dataframe\">\n",
       "  <thead>\n",
       "    <tr style=\"text-align: right;\">\n",
       "      <th></th>\n",
       "      <th>language</th>\n",
       "    </tr>\n",
       "  </thead>\n",
       "  <tbody>\n",
       "    <tr>\n",
       "      <th>0</th>\n",
       "      <td>TypeScript</td>\n",
       "    </tr>\n",
       "  </tbody>\n",
       "</table>\n",
       "</div>"
      ],
      "text/plain": [
       "     language\n",
       "0  TypeScript"
      ]
     },
     "execution_count": 16,
     "metadata": {},
     "output_type": "execute_result"
    }
   ],
   "source": [
    "query = f\"\"\"\n",
    "    SELECT language\n",
    "    FROM read_csv_auto('repositories.csv') AS r\n",
    "    JOIN read_csv_auto('users.csv') AS u ON r.login = u.login\n",
    "    WHERE u.created_at > '2020-01-01' AND language != ''\n",
    "    GROUP BY language\n",
    "    ORDER BY COUNT(*) DESC\n",
    "    LIMIT 1 OFFSET 1\n",
    "\"\"\"\n",
    "con.execute(query).fetchdf()"
   ]
  },
  {
   "cell_type": "code",
   "execution_count": 18,
   "metadata": {},
   "outputs": [
    {
     "data": {
      "text/html": [
       "<div>\n",
       "<style scoped>\n",
       "    .dataframe tbody tr th:only-of-type {\n",
       "        vertical-align: middle;\n",
       "    }\n",
       "\n",
       "    .dataframe tbody tr th {\n",
       "        vertical-align: top;\n",
       "    }\n",
       "\n",
       "    .dataframe thead th {\n",
       "        text-align: right;\n",
       "    }\n",
       "</style>\n",
       "<table border=\"1\" class=\"dataframe\">\n",
       "  <thead>\n",
       "    <tr style=\"text-align: right;\">\n",
       "      <th></th>\n",
       "      <th>language</th>\n",
       "      <th>avg_stars</th>\n",
       "    </tr>\n",
       "  </thead>\n",
       "  <tbody>\n",
       "    <tr>\n",
       "      <th>0</th>\n",
       "      <td>Cython</td>\n",
       "      <td>1780.833333</td>\n",
       "    </tr>\n",
       "    <tr>\n",
       "      <th>1</th>\n",
       "      <td>Forth</td>\n",
       "      <td>1191.000000</td>\n",
       "    </tr>\n",
       "    <tr>\n",
       "      <th>2</th>\n",
       "      <td>ASP.NET</td>\n",
       "      <td>414.000000</td>\n",
       "    </tr>\n",
       "    <tr>\n",
       "      <th>3</th>\n",
       "      <td>BrighterScript</td>\n",
       "      <td>313.000000</td>\n",
       "    </tr>\n",
       "    <tr>\n",
       "      <th>4</th>\n",
       "      <td>SAS</td>\n",
       "      <td>172.000000</td>\n",
       "    </tr>\n",
       "    <tr>\n",
       "      <th>...</th>\n",
       "      <td>...</td>\n",
       "      <td>...</td>\n",
       "    </tr>\n",
       "    <tr>\n",
       "      <th>209</th>\n",
       "      <td>J</td>\n",
       "      <td>0.000000</td>\n",
       "    </tr>\n",
       "    <tr>\n",
       "      <th>210</th>\n",
       "      <td>Web Ontology Language</td>\n",
       "      <td>0.000000</td>\n",
       "    </tr>\n",
       "    <tr>\n",
       "      <th>211</th>\n",
       "      <td>Meson</td>\n",
       "      <td>0.000000</td>\n",
       "    </tr>\n",
       "    <tr>\n",
       "      <th>212</th>\n",
       "      <td>PigLatin</td>\n",
       "      <td>0.000000</td>\n",
       "    </tr>\n",
       "    <tr>\n",
       "      <th>213</th>\n",
       "      <td>ZenScript</td>\n",
       "      <td>0.000000</td>\n",
       "    </tr>\n",
       "  </tbody>\n",
       "</table>\n",
       "<p>214 rows × 2 columns</p>\n",
       "</div>"
      ],
      "text/plain": [
       "                  language    avg_stars\n",
       "0                   Cython  1780.833333\n",
       "1                    Forth  1191.000000\n",
       "2                  ASP.NET   414.000000\n",
       "3           BrighterScript   313.000000\n",
       "4                      SAS   172.000000\n",
       "..                     ...          ...\n",
       "209                      J     0.000000\n",
       "210  Web Ontology Language     0.000000\n",
       "211                  Meson     0.000000\n",
       "212               PigLatin     0.000000\n",
       "213              ZenScript     0.000000\n",
       "\n",
       "[214 rows x 2 columns]"
      ]
     },
     "execution_count": 18,
     "metadata": {},
     "output_type": "execute_result"
    }
   ],
   "source": [
    "query = f\"\"\"\n",
    "    select language, avg(stargazers_count) as avg_stars\n",
    "    from read_csv_auto('repositories.csv') as r\n",
    "    group by language\n",
    "    order by avg_stars desc\n",
    "\"\"\"\n",
    "con.execute(query).fetchdf()"
   ]
  },
  {
   "cell_type": "code",
   "execution_count": 19,
   "metadata": {},
   "outputs": [
    {
     "data": {
      "text/html": [
       "<div>\n",
       "<style scoped>\n",
       "    .dataframe tbody tr th:only-of-type {\n",
       "        vertical-align: middle;\n",
       "    }\n",
       "\n",
       "    .dataframe tbody tr th {\n",
       "        vertical-align: top;\n",
       "    }\n",
       "\n",
       "    .dataframe thead th {\n",
       "        text-align: right;\n",
       "    }\n",
       "</style>\n",
       "<table border=\"1\" class=\"dataframe\">\n",
       "  <thead>\n",
       "    <tr style=\"text-align: right;\">\n",
       "      <th></th>\n",
       "      <th>login</th>\n",
       "      <th>leader_strength</th>\n",
       "    </tr>\n",
       "  </thead>\n",
       "  <tbody>\n",
       "    <tr>\n",
       "      <th>0</th>\n",
       "      <td>aneagoie</td>\n",
       "      <td>5139.5</td>\n",
       "    </tr>\n",
       "    <tr>\n",
       "      <th>1</th>\n",
       "      <td>nayuki</td>\n",
       "      <td>3546.0</td>\n",
       "    </tr>\n",
       "    <tr>\n",
       "      <th>2</th>\n",
       "      <td>GrapheneOS</td>\n",
       "      <td>3524.0</td>\n",
       "    </tr>\n",
       "    <tr>\n",
       "      <th>3</th>\n",
       "      <td>hlissner</td>\n",
       "      <td>2424.0</td>\n",
       "    </tr>\n",
       "    <tr>\n",
       "      <th>4</th>\n",
       "      <td>rspivak</td>\n",
       "      <td>2180.0</td>\n",
       "    </tr>\n",
       "  </tbody>\n",
       "</table>\n",
       "</div>"
      ],
      "text/plain": [
       "        login  leader_strength\n",
       "0    aneagoie           5139.5\n",
       "1      nayuki           3546.0\n",
       "2  GrapheneOS           3524.0\n",
       "3    hlissner           2424.0\n",
       "4     rspivak           2180.0"
      ]
     },
     "execution_count": 19,
     "metadata": {},
     "output_type": "execute_result"
    }
   ],
   "source": [
    "query = \"\"\"\n",
    "    select login, followers / (1 + following) as leader_strength\n",
    "    from read_csv_auto('users.csv')\n",
    "    order by leader_strength desc\n",
    "    limit 5\n",
    "\"\"\"\n",
    "con.execute(query).fetchdf()"
   ]
  },
  {
   "cell_type": "code",
   "execution_count": 20,
   "metadata": {},
   "outputs": [
    {
     "name": "stdout",
     "output_type": "stream",
     "text": [
      "0.05549355862436628\n"
     ]
    }
   ],
   "source": [
    "query = f\"\"\"\n",
    "    SELECT followers, public_repos\n",
    "    FROM read_csv_auto('users.csv')\n",
    "\"\"\"\n",
    "\n",
    "toronto_users_df = con.execute(query).fetchdf()\n",
    "correlation = toronto_users_df['followers'].corr(toronto_users_df['public_repos'])\n",
    "print(correlation)"
   ]
  },
  {
   "cell_type": "code",
   "execution_count": 21,
   "metadata": {},
   "outputs": [],
   "source": [
    "import pandas as pd\n",
    "import statsmodels.api as sm"
   ]
  },
  {
   "cell_type": "code",
   "execution_count": 22,
   "metadata": {},
   "outputs": [
    {
     "name": "stdout",
     "output_type": "stream",
     "text": [
      "0.2528220678949066\n"
     ]
    }
   ],
   "source": [
    "X = toronto_users_df['public_repos']\n",
    "y = toronto_users_df['followers']\n",
    "X = sm.add_constant(X)\n",
    "\n",
    "model = sm.OLS(y, X).fit()\n",
    "slope = model.params['public_repos']\n",
    "\n",
    "print(slope)"
   ]
  },
  {
   "cell_type": "code",
   "execution_count": 2,
   "metadata": {},
   "outputs": [],
   "source": [
    "query = \"select * from read_csv_auto('repositories.csv')\"\n",
    "repos_df = con.execute(query).fetchdf()"
   ]
  },
  {
   "cell_type": "code",
   "execution_count": 5,
   "metadata": {},
   "outputs": [
    {
     "name": "stdout",
     "output_type": "stream",
     "text": [
      "0         True\n",
      "1         True\n",
      "2         True\n",
      "3         True\n",
      "4         True\n",
      "         ...  \n",
      "55269     True\n",
      "55270     True\n",
      "55271     True\n",
      "55272    False\n",
      "55273     True\n",
      "Name: has_projects, Length: 55274, dtype: bool\n"
     ]
    }
   ],
   "source": [
    "print(repos_df['has_projects'])"
   ]
  },
  {
   "cell_type": "code",
   "execution_count": 8,
   "metadata": {},
   "outputs": [
    {
     "name": "stdout",
     "output_type": "stream",
     "text": [
      "0.37284213193516674\n"
     ]
    }
   ],
   "source": [
    "correlation = (repos_df['has_projects'] == True).corr((repos_df['has_wiki'] == True))\n",
    "print(correlation)"
   ]
  },
  {
   "cell_type": "code",
   "execution_count": 25,
   "metadata": {},
   "outputs": [],
   "source": [
    "query = \"select * from read_csv_auto('users.csv')\"\n",
    "users_df = con.execute(query).fetchdf()"
   ]
  },
  {
   "cell_type": "code",
   "execution_count": 58,
   "metadata": {},
   "outputs": [
    {
     "name": "stdout",
     "output_type": "stream",
     "text": [
      "             login             name                      company  \\\n",
      "0         aneagoie   Andrei Neagoie                         None   \n",
      "1      ZhangMYihua      Yihua Zhang                         None   \n",
      "2      susanli2016         Susan Li                         None   \n",
      "3     thedaviddias       David Dias                     KIJIJICA   \n",
      "4       ange-yaghi       Ange Yaghi                         None   \n",
      "..             ...              ...                          ...   \n",
      "95    nikolovlazar    Lazar Nikolov                    GETSENTRY   \n",
      "96         mobinni         Mo Binni              ZERO TO MASTERY   \n",
      "97  kulkarniankita  Ankita Kulkarni  HTTPS://FRONTENDSNACKS.DEV/   \n",
      "98        ploopyco             None                       PLOOPY   \n",
      "99       DylanVann       Dylan Vann                         None   \n",
      "\n",
      "                      location                        email hireable  \\\n",
      "0              Toronto, Canada                         None     True   \n",
      "1                      Toronto        yihuazhang2@gmail.com      NaN   \n",
      "2               Toronto Canada                         None      NaN   \n",
      "3              Toronto, Canada                         None      NaN   \n",
      "4                      Toronto             me@angeyaghi.com      NaN   \n",
      "..                         ...                          ...      ...   \n",
      "95             Toronto, Canada       hello@nikolovlazar.com     True   \n",
      "96            Toronto, Ontario                  mo@binni.io      NaN   \n",
      "97                 Toronto, ON  kulkarni.ankita09@gmail.com     True   \n",
      "98             Toronto, Canada                         None      NaN   \n",
      "99  Toronto and sometimes NYC.          dylan@dylanvann.com     True   \n",
      "\n",
      "                                                  bio  public_repos  \\\n",
      "0   Senior Software Dev turned Instructor. Founder...           145   \n",
      "1                          Toronto Software Developer           143   \n",
      "2                                Chief Data Scientist            34   \n",
      "3   💻 Passionate Front-End Dev & 🎨 UI/UX fan. Cont...            88   \n",
      "4                                       C++ Developer            32   \n",
      "..                                                ...           ...   \n",
      "95  Full stack engineer & educator. @getsentry + @...            85   \n",
      "96                                               None            71   \n",
      "97  I'm a Creator and Educator!\\r\\n\\r\\nTo help you...            70   \n",
      "98                                               None            18   \n",
      "99               🤖 I design and develop software.\\r\\n           176   \n",
      "\n",
      "    followers  following          created_at  \n",
      "0       10278          1 2015-01-30 17:05:43  \n",
      "1        5801         11 2015-01-18 00:01:02  \n",
      "2        4921         68 2016-11-28 04:22:39  \n",
      "3        4546        303 2010-04-05 14:40:12  \n",
      "4        4023         11 2016-07-13 21:01:21  \n",
      "..        ...        ...                 ...  \n",
      "95        532         46 2013-09-06 02:07:23  \n",
      "96        529          6 2012-09-17 09:17:31  \n",
      "97        527          0 2012-10-14 22:46:52  \n",
      "98        523          1 2019-09-04 22:37:14  \n",
      "99        505          9 2012-03-14 18:20:39  \n",
      "\n",
      "[100 rows x 11 columns]\n"
     ]
    }
   ],
   "source": [
    "print(users_df)"
   ]
  },
  {
   "cell_type": "code",
   "execution_count": 26,
   "metadata": {},
   "outputs": [],
   "source": [
    "import numpy as np"
   ]
  },
  {
   "cell_type": "code",
   "execution_count": null,
   "metadata": {},
   "outputs": [
    {
     "name": "stdout",
     "output_type": "stream",
     "text": [
      "58.0\n",
      "nan\n",
      "nan\n"
     ]
    }
   ],
   "source": [
    "avg_following_hireable = users_df[users_df['hireable'] == True]['following'].mean()\n",
    "print(avg_following_hireable)\n",
    "avg_following_non_hireable = users_df[users_df['hireable'] == False]['following'].mean()\n",
    "print(avg_following_non_hireable)\n",
    "difference = avg_following_hireable - avg_following_non_hireable\n",
    "print(difference)"
   ]
  },
  {
   "cell_type": "code",
   "execution_count": 32,
   "metadata": {},
   "outputs": [
    {
     "name": "stdout",
     "output_type": "stream",
     "text": [
      "8.376736537822353\n"
     ]
    }
   ],
   "source": [
    "query = f\"\"\"\n",
    "    SELECT bio, followers\n",
    "    FROM read_csv_auto('users.csv')\n",
    "    WHERE bio IS NOT NULL AND bio != ''\n",
    "\"\"\"\n",
    "\n",
    "users_df = con.execute(query).fetchdf()\n",
    "\n",
    "users_df['bio_word_count'] = users_df['bio'].str.split().str.len()\n",
    "\n",
    "X = users_df['bio_word_count']\n",
    "y = users_df['followers']\n",
    "X = sm.add_constant(X)\n",
    "\n",
    "model = sm.OLS(y, X).fit()\n",
    "slope = model.params['bio_word_count']\n",
    "\n",
    "print(slope)"
   ]
  },
  {
   "cell_type": "code",
   "execution_count": 30,
   "metadata": {},
   "outputs": [
    {
     "name": "stdout",
     "output_type": "stream",
     "text": [
      "Top 5 users who created the most repositories on weekends (UTC): andyw8,QuinntyneBrown,n1ckfg,nhat416,rgrinberg\n"
     ]
    }
   ],
   "source": [
    "query = f\"\"\"\n",
    "    SELECT login, created_at\n",
    "    FROM read_csv_auto('repositories.csv')\n",
    "\"\"\"\n",
    "\n",
    "repos_df = con.execute(query).fetchdf()\n",
    "\n",
    "repos_df['created_at'] = pd.to_datetime(repos_df['created_at'])\n",
    "\n",
    "repos_df['is_weekend'] = repos_df['created_at'].dt.dayofweek >= 5\n",
    "\n",
    "weekend_repos_count = repos_df[repos_df['is_weekend']].groupby('login').size().reset_index(name='count')\n",
    "\n",
    "top_weekend_users = weekend_repos_count.sort_values(by='count', ascending=False).head(5)\n",
    "\n",
    "top_users_logins = top_weekend_users['login'].tolist()\n",
    "\n",
    "print(\"Top 5 users who created the most repositories on weekends (UTC):\", ','.join(top_users_logins))"
   ]
  },
  {
   "cell_type": "code",
   "execution_count": 31,
   "metadata": {},
   "outputs": [
    {
     "name": "stdout",
     "output_type": "stream",
     "text": [
      "Most common surname(s): Ahmed\n"
     ]
    }
   ],
   "source": [
    "query = f\"\"\"\n",
    "    SELECT name\n",
    "    FROM read_csv_auto('users.csv')\n",
    "    WHERE name IS NOT NULL AND name != ''\n",
    "\"\"\"\n",
    "\n",
    "users_df = con.execute(query).fetchdf()\n",
    "\n",
    "users_df['surname'] = users_df['name'].str.strip().str.split().str[-1]\n",
    "\n",
    "surname_counts = users_df['surname'].value_counts()\n",
    "\n",
    "max_count = surname_counts.max()\n",
    "\n",
    "most_common_surnames = surname_counts[surname_counts == max_count].index.tolist()\n",
    "\n",
    "most_common_surnames.sort()\n",
    "\n",
    "print(\"Most common surname(s):\", ', '.join(most_common_surnames))"
   ]
  }
 ],
 "metadata": {
  "kernelspec": {
   "display_name": "env",
   "language": "python",
   "name": "python3"
  },
  "language_info": {
   "codemirror_mode": {
    "name": "ipython",
    "version": 3
   },
   "file_extension": ".py",
   "mimetype": "text/x-python",
   "name": "python",
   "nbconvert_exporter": "python",
   "pygments_lexer": "ipython3",
   "version": "3.12.4"
  }
 },
 "nbformat": 4,
 "nbformat_minor": 2
}
